{
 "cells": [
  {
   "cell_type": "code",
   "execution_count": 3,
   "id": "c6aa6a2e",
   "metadata": {},
   "outputs": [],
   "source": [
    "import attoworld as aw"
   ]
  }
 ],
 "metadata": {
  "kernelspec": {
   "display_name": "attoworld-venv",
   "language": "python",
   "name": "python3"
  },
  "language_info": {
   "codemirror_mode": {
    "name": "ipython",
    "version": 3
   },
   "file_extension": ".py",
   "mimetype": "text/x-python",
   "name": "python",
   "nbconvert_exporter": "python",
   "pygments_lexer": "ipython3",
   "version": "3.13.5"
  }
 },
 "nbformat": 4,
 "nbformat_minor": 5
}
