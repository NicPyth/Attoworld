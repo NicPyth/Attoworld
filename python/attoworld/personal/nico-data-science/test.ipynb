{
 "cells": [
  {
   "cell_type": "code",
   "execution_count": 2,
   "id": "5f1a8972",
   "metadata": {},
   "outputs": [],
   "source": [
    "import attoworld as aw"
   ]
  }
 ],
 "metadata": {
  "kernelspec": {
   "display_name": "attoworld-venv",
   "language": "python",
   "name": "python3"
  },
  "language_info": {
   "codemirror_mode": {
    "name": "ipython",
    "version": 3
   },
   "file_extension": ".py",
   "mimetype": "text/x-python",
   "name": "python",
   "nbconvert_exporter": "python",
   "pygments_lexer": "ipython3",
   "version": "3.13.5"
  }
 },
 "nbformat": 4,
 "nbformat_minor": 5
}
